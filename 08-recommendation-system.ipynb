{
 "cells": [
  {
   "cell_type": "code",
   "execution_count": null,
   "metadata": {},
   "outputs": [],
   "source": [
    "import os\n",
    "import pandas as pd\n",
    "import requests\n",
    "from qdrant_client import QdrantClient, models\n",
    "from qdrant_client.models import PointStruct, SparseVector, NamedSparseVector\n",
    "from collections import defaultdict\n",
    "\n",
    "# OMDB API Key - for movie posters\n",
    "omdb_api_key = os.getenv(\"OMDB_API_KEY\")\n",
    "\n",
    "# Collection name\n",
    "collection_name = \"movies\"\n",
    "\n",
    "# Set Qdrant Client\n",
    "qdrant_client = QdrantClient(\n",
    "    os.getenv(\"QDRANT_HOST\"),\n",
    "    api_key=os.getenv(\"QDRANT_API_KEY\")\n",
    ")"
   ]
  },
  {
   "cell_type": "code",
   "execution_count": null,
   "metadata": {},
   "outputs": [],
   "source": [
    "# Function to get movie poster using OMDB API\n",
    "def get_movie_poster(imdb_id, api_key):\n",
    "    url = f\"https://www.omdbapi.com/?i={imdb_id}&apikey={api_key}\"\n",
    "    data = requests.get(url).json()\n",
    "    return data.get('Poster'), data"
   ]
  },
  {
   "cell_type": "code",
   "execution_count": null,
   "metadata": {},
   "outputs": [],
   "source": [
    "# Load CSV files\n",
    "ratings_df = pd.read_csv('data/ratings.csv', low_memory=False)\n",
    "movies_df = pd.read_csv('data/movies.csv', low_memory=False)\n",
    "\n",
    "# Convert movieId in ratings_df and movies_df to string\n",
    "ratings_df['movieId'] = ratings_df['movieId'].astype(str)\n",
    "movies_df['movieId'] = movies_df['movieId'].astype(str)\n",
    "\n",
    "rating = ratings_df['rating']\n",
    "\n",
    "# Normalize ratings\n",
    "ratings_df['rating'] = (rating - rating.mean()) / rating.std()\n",
    "\n",
    "# Merge ratings with movie metadata to get movie titles\n",
    "merged_df = ratings_df.merge(\n",
    "    movies_df[['movieId', 'title']],\n",
    "    left_on='movieId', right_on='movieId', how='inner'\n",
    ")\n",
    "\n",
    "# Aggregate ratings to handle duplicate (userId, title) pairs\n",
    "ratings_agg_df = merged_df.groupby(['userId', 'movieId']).rating.mean().reset_index()\n",
    "\n",
    "ratings_agg_df.head()"
   ]
  },
  {
   "cell_type": "code",
   "execution_count": null,
   "metadata": {},
   "outputs": [],
   "source": [
    "# Convert ratings to sparse vectors\n",
    "user_sparse_vectors = defaultdict(lambda: {\"values\": [], \"indices\": []})\n",
    "for row in ratings_agg_df.itertuples():\n",
    "    user_sparse_vectors[row.userId][\"values\"].append(row.rating)\n",
    "    user_sparse_vectors[row.userId][\"indices\"].append(int(row.movieId))"
   ]
  },
  {
   "cell_type": "code",
   "execution_count": null,
   "metadata": {},
   "outputs": [],
   "source": [
    "# Define a data generator\n",
    "def data_generator():\n",
    "    for user_id, sparse_vector in user_sparse_vectors.items():\n",
    "        yield PointStruct(\n",
    "            id=user_id,\n",
    "            vector={\"ratings\": SparseVector(\n",
    "                indices=sparse_vector[\"indices\"],\n",
    "                values=sparse_vector[\"values\"]\n",
    "            )},\n",
    "            payload={\"user_id\": user_id, \"movie_id\": sparse_vector[\"indices\"]}\n",
    "        )\n",
    "\n",
    "# Upload points using the data generator\n",
    "qdrant_client.upload_points(\n",
    "    collection_name=collection_name,\n",
    "    points=data_generator()\n",
    ")"
   ]
  },
  {
   "cell_type": "code",
   "execution_count": null,
   "metadata": {},
   "outputs": [],
   "source": [
    "# Create sparse vector from my_ratings\n",
    "def to_vector(ratings):\n",
    "    vector = SparseVector(\n",
    "        values=[],\n",
    "        indices=[]\n",
    "    )\n",
    "    for movie_id, rating in ratings.items():\n",
    "        vector.values.append(rating)\n",
    "        vector.indices.append(movie_id)\n",
    "    return vector"
   ]
  },
  {
   "cell_type": "code",
   "execution_count": null,
   "metadata": {},
   "outputs": [],
   "source": [
    "my_ratings = {\n",
    "    603: 1,     # Matrix\n",
    "    13475: 1,   # Star Trek\n",
    "    11: 1,      # Star Wars\n",
    "    1091: -1,   # The Thing\n",
    "    862: 1,     # Toy Story\n",
    "    597: -1,    # Titanic\n",
    "    680: -1,    # Pulp Fiction\n",
    "    13: 1,      # Forrest Gump\n",
    "    120: 1,     # Lord of the Rings\n",
    "    87: -1,     # Indiana Jones\n",
    "    562: -1     # Die Hard\n",
    "}"
   ]
  },
  {
   "cell_type": "code",
   "execution_count": null,
   "metadata": {},
   "outputs": [],
   "source": [
    "# Perform the search\n",
    "results = qdrant_client.query_points(\n",
    "    collection_name=collection_name,\n",
    "    query=to_vector(my_ratings),\n",
    "    using=\"ratings\",\n",
    "    limit=20\n",
    ").points"
   ]
  },
  {
   "cell_type": "code",
   "execution_count": null,
   "metadata": {},
   "outputs": [],
   "source": [
    "# Convert results to scores and sort by score\n",
    "def results_to_scores(results):\n",
    "    movie_scores = defaultdict(lambda: 0)\n",
    "    for result in results:\n",
    "        for movie_id in result.payload[\"movie_id\"]:\n",
    "            movie_scores[movie_id] += result.score\n",
    "    return movie_scores\n",
    "\n",
    "# Convert results to scores and sort by score\n",
    "movie_scores = results_to_scores(results)\n",
    "top_movies = sorted(movie_scores.items(), key=lambda x: x[1], reverse=True)"
   ]
  },
  {
   "cell_type": "code",
   "execution_count": null,
   "metadata": {},
   "outputs": [],
   "source": [
    "# Create HTML to display top 5 results\n",
    "html_content = \"<div class='movies-container'>\"\n",
    "\n",
    "for movie_id, score in top_movies[:5]:\n",
    "    imdb_id_row = links.loc[links['movieId'] == int(movie_id), 'imdbId']\n",
    "    if not imdb_id_row.empty:\n",
    "        imdb_id = imdb_id_row.values[0]\n",
    "        poster_url, movie_info = get_movie_poster(imdb_id, omdb_api_key)\n",
    "        movie_title = movie_info.get('Title', 'Unknown Title')\n",
    "        \n",
    "        html_content += f\"\"\"\n",
    "        <div class='movie-card'>\n",
    "            <img src=\"{poster_url}\" alt=\"Poster\" class=\"movie-poster\">\n",
    "            <div class=\"movie-title\">{movie_title}</div>\n",
    "            <div class=\"movie-score\">Score: {score}</div>\n",
    "        </div>\n",
    "        \"\"\"\n",
    "    else:\n",
    "        continue  # Skip if imdb_id is not found\n",
    "\n",
    "html_content += \"</div>\"\n",
    "\n",
    "display(HTML(html_content))"
   ]
  },
  {
   "cell_type": "code",
   "execution_count": null,
   "metadata": {},
   "outputs": [],
   "source": []
  },
  {
   "cell_type": "code",
   "execution_count": null,
   "metadata": {},
   "outputs": [],
   "source": []
  },
  {
   "cell_type": "code",
   "execution_count": null,
   "metadata": {},
   "outputs": [],
   "source": []
  },
  {
   "cell_type": "code",
   "execution_count": null,
   "metadata": {},
   "outputs": [],
   "source": []
  },
  {
   "cell_type": "code",
   "execution_count": null,
   "metadata": {},
   "outputs": [],
   "source": []
  },
  {
   "cell_type": "code",
   "execution_count": null,
   "metadata": {},
   "outputs": [],
   "source": []
  },
  {
   "cell_type": "code",
   "execution_count": null,
   "metadata": {},
   "outputs": [],
   "source": []
  },
  {
   "cell_type": "code",
   "execution_count": null,
   "metadata": {},
   "outputs": [],
   "source": []
  },
  {
   "cell_type": "code",
   "execution_count": null,
   "metadata": {},
   "outputs": [],
   "source": []
  },
  {
   "cell_type": "code",
   "execution_count": null,
   "metadata": {},
   "outputs": [],
   "source": []
  },
  {
   "cell_type": "code",
   "execution_count": null,
   "metadata": {},
   "outputs": [],
   "source": []
  },
  {
   "cell_type": "code",
   "execution_count": null,
   "metadata": {},
   "outputs": [],
   "source": []
  },
  {
   "cell_type": "code",
   "execution_count": null,
   "metadata": {},
   "outputs": [],
   "source": []
  },
  {
   "cell_type": "code",
   "execution_count": null,
   "metadata": {},
   "outputs": [],
   "source": []
  }
 ],
 "metadata": {
  "kernelspec": {
   "display_name": "Python 3",
   "language": "python",
   "name": "python3"
  },
  "language_info": {
   "name": "python",
   "version": "3.12.2"
  }
 },
 "nbformat": 4,
 "nbformat_minor": 2
}
