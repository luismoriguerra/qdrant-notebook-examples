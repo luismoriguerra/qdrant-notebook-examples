{
 "cells": [
  {
   "cell_type": "code",
   "execution_count": 1,
   "metadata": {},
   "outputs": [],
   "source": [
    "# wget https://storage.googleapis.com/generall-shared-data/startups_demo.json"
   ]
  },
  {
   "cell_type": "code",
   "execution_count": 3,
   "metadata": {},
   "outputs": [],
   "source": [
    "# !pip install \"qdrant-client[fastembed]>=1.8.2\""
   ]
  },
  {
   "cell_type": "code",
   "execution_count": 1,
   "metadata": {},
   "outputs": [
    {
     "name": "stderr",
     "output_type": "stream",
     "text": [
      "/Library/Frameworks/Python.framework/Versions/3.12/lib/python3.12/site-packages/tqdm/auto.py:21: TqdmWarning: IProgress not found. Please update jupyter and ipywidgets. See https://ipywidgets.readthedocs.io/en/stable/user_install.html\n",
      "  from .autonotebook import tqdm as notebook_tqdm\n"
     ]
    }
   ],
   "source": [
    "# Import client library\n",
    "from qdrant_client import QdrantClient\n",
    "from qdrant_client.models import VectorParams, Distance\n",
    "\n",
    "import json\n",
    "import os\n",
    "from dotenv import load_dotenv\n",
    "\n",
    "load_dotenv()\n",
    "\n",
    "client = QdrantClient(\n",
    "    url=os.getenv(\"QDRANT_API_URL\") or exit(\"QDRANT_API_URL environment variable not set\"),\n",
    "    api_key=os.getenv(\"QDRANT_KEY\") or exit(\"QDRANT_KEY environment variable not set\"),\n",
    ")"
   ]
  },
  {
   "cell_type": "code",
   "execution_count": 3,
   "metadata": {},
   "outputs": [],
   "source": [
    "client.set_model(\"sentence-transformers/all-MiniLM-L6-v2\")\n",
    "# comment this line to use dense vectors only\n",
    "client.set_sparse_model(\"prithivida/Splade_PP_en_v1\")"
   ]
  },
  {
   "cell_type": "code",
   "execution_count": 6,
   "metadata": {},
   "outputs": [
    {
     "data": {
      "text/plain": [
       "True"
      ]
     },
     "execution_count": 6,
     "metadata": {},
     "output_type": "execute_result"
    }
   ],
   "source": [
    "# client.delete_collection(\"startups\")"
   ]
  },
  {
   "cell_type": "code",
   "execution_count": 4,
   "metadata": {},
   "outputs": [],
   "source": [
    "if not client.collection_exists(\"startups\"):\n",
    "    client.create_collection(\n",
    "        collection_name=\"startups\",\n",
    "        vectors_config=client.get_fastembed_vector_params(),\n",
    "        # comment this line to use dense vectors only\n",
    "        sparse_vectors_config=client.get_fastembed_sparse_vector_params(),  \n",
    "    )"
   ]
  },
  {
   "cell_type": "code",
   "execution_count": 8,
   "metadata": {},
   "outputs": [],
   "source": [
    "import json\n",
    "\n",
    "payload_path = \"startups_demo.json\"\n",
    "metadata = []\n",
    "documents = []\n",
    "\n",
    "with open(payload_path) as fd:\n",
    "    for line in fd:\n",
    "        obj = json.loads(line)\n",
    "        documents.append(obj.pop(\"description\"))\n",
    "        metadata.append(obj)"
   ]
  },
  {
   "cell_type": "code",
   "execution_count": null,
   "metadata": {},
   "outputs": [],
   "source": [
    "# This adds documents to the \"startups\" collection in Qdrant:\n",
    "# - collection_name: specifies which collection to add to (\"startups\")\n",
    "# - documents: list of text documents to encode and store as vectors\n",
    "# - metadata: additional data to store alongside each document\n",
    "# - parallel=0: uses all available CPU cores for parallel encoding\n",
    "#   (requires wrapping in if __name__ == '__main__' for multiprocessing)\n",
    "client.add(\n",
    "    collection_name=\"startups\",\n",
    "    documents=documents,\n",
    "    metadata=metadata,\n",
    "    parallel=0,  # Use all available CPU cores to encode data. \n",
    "    # Requires wrapping code into if __name__ == '__main__' block\n",
    ")"
   ]
  },
  {
   "cell_type": "code",
   "execution_count": 5,
   "metadata": {},
   "outputs": [
    {
     "name": "stdout",
     "output_type": "stream",
     "text": [
      "--2025-01-31 19:24:54--  https://storage.googleapis.com/dataset-startup-search/startup-list-com/startups_hybrid_search_processed_40k.tar.gz\n",
      "Resolving storage.googleapis.com (storage.googleapis.com)... 142.250.0.207, 142.251.0.207, 172.217.192.207, ...\n",
      "Connecting to storage.googleapis.com (storage.googleapis.com)|142.250.0.207|:443... connected.\n",
      "HTTP request sent, awaiting response... 200 OK\n",
      "Length: 149774371 (143M) [application/x-gzip]\n",
      "Saving to: ‘startups_hybrid_search_processed_40k.tar.gz’\n",
      "\n",
      "startups_hybrid_sea 100%[===================>] 142.84M  18.7MB/s    in 9.0s    \n",
      "\n",
      "2025-01-31 19:25:05 (15.8 MB/s) - ‘startups_hybrid_search_processed_40k.tar.gz’ saved [149774371/149774371]\n",
      "\n",
      "x dense_vectors.npy\n",
      "x sparse_vectors.json\n",
      "x payload.json\n"
     ]
    }
   ],
   "source": [
    "!wget https://storage.googleapis.com/dataset-startup-search/startup-list-com/startups_hybrid_search_processed_40k.tar.gz\n",
    "!tar -xvf startups_hybrid_search_processed_40k.tar.gz"
   ]
  },
  {
   "cell_type": "code",
   "execution_count": 6,
   "metadata": {},
   "outputs": [],
   "source": [
    "from qdrant_client import QdrantClient, models\n",
    "\n",
    "collection_name = \"startups\"\n",
    "\n",
    "class HybridSearcher:\n",
    "    DENSE_MODEL = \"sentence-transformers/all-MiniLM-L6-v2\"\n",
    "    SPARSE_MODEL = \"prithivida/Splade_PP_en_v1\"\n",
    "    def __init__(self, collection_name):\n",
    "        self.collection_name = collection_name\n",
    "        # initialize Qdrant client\n",
    "        self.qdrant_client =  QdrantClient(\n",
    "            url=os.getenv(\"QDRANT_API_URL\") or exit(\"QDRANT_API_URL environment variable not set\"),\n",
    "            api_key=os.getenv(\"QDRANT_KEY\") or exit(\"QDRANT_KEY environment variable not set\"))\n",
    "        self.qdrant_client.set_model(self.DENSE_MODEL)\n",
    "        # comment this line to use dense vectors only\n",
    "        self.qdrant_client.set_sparse_model(self.SPARSE_MODEL)\n",
    "        \n",
    "    def search(self, text: str):\n",
    "        \n",
    "        city_of_interest = \"Berlin\"\n",
    "\n",
    "        # Define a filter for cities\n",
    "        city_filter = models.Filter(\n",
    "            must=[\n",
    "                models.FieldCondition(\n",
    "                    key=\"city\", \n",
    "                    match=models.MatchValue(value=city_of_interest)\n",
    "                )\n",
    "            ]\n",
    "        )\n",
    "        search_result = self.qdrant_client.query(\n",
    "            collection_name=self.collection_name,\n",
    "            query_text=text,\n",
    "            query_filter=city_filter,  # If you don't want any filters for now\n",
    "            limit=5,  # 5 the closest results\n",
    "        )\n",
    "        # `search_result` contains found vector ids with similarity scores \n",
    "        # along with the stored payload\n",
    "        \n",
    "        # Select and return metadata\n",
    "        metadata = [hit.metadata for hit in search_result]\n",
    "        return metadata"
   ]
  },
  {
   "cell_type": "code",
   "execution_count": null,
   "metadata": {},
   "outputs": [],
   "source": []
  },
  {
   "cell_type": "code",
   "execution_count": null,
   "metadata": {},
   "outputs": [],
   "source": []
  },
  {
   "cell_type": "code",
   "execution_count": null,
   "metadata": {},
   "outputs": [],
   "source": []
  },
  {
   "cell_type": "code",
   "execution_count": null,
   "metadata": {},
   "outputs": [],
   "source": []
  },
  {
   "cell_type": "code",
   "execution_count": null,
   "metadata": {},
   "outputs": [],
   "source": []
  },
  {
   "cell_type": "code",
   "execution_count": null,
   "metadata": {},
   "outputs": [],
   "source": []
  },
  {
   "cell_type": "code",
   "execution_count": null,
   "metadata": {},
   "outputs": [],
   "source": []
  },
  {
   "cell_type": "code",
   "execution_count": null,
   "metadata": {},
   "outputs": [],
   "source": []
  },
  {
   "cell_type": "code",
   "execution_count": null,
   "metadata": {},
   "outputs": [],
   "source": []
  },
  {
   "cell_type": "code",
   "execution_count": null,
   "metadata": {},
   "outputs": [],
   "source": []
  },
  {
   "cell_type": "code",
   "execution_count": null,
   "metadata": {},
   "outputs": [],
   "source": []
  },
  {
   "cell_type": "code",
   "execution_count": null,
   "metadata": {},
   "outputs": [],
   "source": []
  }
 ],
 "metadata": {
  "kernelspec": {
   "display_name": "Python 3",
   "language": "python",
   "name": "python3"
  },
  "language_info": {
   "codemirror_mode": {
    "name": "ipython",
    "version": 3
   },
   "file_extension": ".py",
   "mimetype": "text/x-python",
   "name": "python",
   "nbconvert_exporter": "python",
   "pygments_lexer": "ipython3",
   "version": "3.12.2"
  }
 },
 "nbformat": 4,
 "nbformat_minor": 2
}
