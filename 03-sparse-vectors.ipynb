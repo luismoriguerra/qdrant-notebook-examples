{
 "cells": [
  {
   "cell_type": "code",
   "execution_count": 2,
   "metadata": {},
   "outputs": [
    {
     "name": "stdout",
     "output_type": "stream",
     "text": [
      "\n",
      "\u001b[1m[\u001b[0m\u001b[34;49mnotice\u001b[0m\u001b[1;39;49m]\u001b[0m\u001b[39;49m A new release of pip is available: \u001b[0m\u001b[31;49m24.3.1\u001b[0m\u001b[39;49m -> \u001b[0m\u001b[32;49m25.0\u001b[0m\n",
      "\u001b[1m[\u001b[0m\u001b[34;49mnotice\u001b[0m\u001b[1;39;49m]\u001b[0m\u001b[39;49m To update, run: \u001b[0m\u001b[32;49mpip install --upgrade pip\u001b[0m\n"
     ]
    }
   ],
   "source": [
    "!pip install -q fastembed"
   ]
  },
  {
   "cell_type": "code",
   "execution_count": 3,
   "metadata": {},
   "outputs": [],
   "source": [
    "from fastembed import SparseTextEmbedding, SparseEmbedding\n",
    "from typing import List"
   ]
  },
  {
   "cell_type": "code",
   "execution_count": 4,
   "metadata": {},
   "outputs": [
    {
     "data": {
      "text/plain": [
       "[{'model': 'prithivida/Splade_PP_en_v1',\n",
       "  'vocab_size': 30522,\n",
       "  'description': 'Independent Implementation of SPLADE++ Model for English.',\n",
       "  'license': 'apache-2.0',\n",
       "  'size_in_GB': 0.532,\n",
       "  'sources': {'hf': 'Qdrant/SPLADE_PP_en_v1'},\n",
       "  'model_file': 'model.onnx'},\n",
       " {'model': 'prithvida/Splade_PP_en_v1',\n",
       "  'vocab_size': 30522,\n",
       "  'description': 'Independent Implementation of SPLADE++ Model for English.',\n",
       "  'license': 'apache-2.0',\n",
       "  'size_in_GB': 0.532,\n",
       "  'sources': {'hf': 'Qdrant/SPLADE_PP_en_v1'},\n",
       "  'model_file': 'model.onnx'},\n",
       " {'model': 'Qdrant/bm42-all-minilm-l6-v2-attentions',\n",
       "  'vocab_size': 30522,\n",
       "  'description': 'Light sparse embedding model, which assigns an importance score to each token in the text',\n",
       "  'license': 'apache-2.0',\n",
       "  'size_in_GB': 0.09,\n",
       "  'sources': {'hf': 'Qdrant/all_miniLM_L6_v2_with_attentions'},\n",
       "  'model_file': 'model.onnx',\n",
       "  'additional_files': ['stopwords.txt'],\n",
       "  'requires_idf': True},\n",
       " {'model': 'Qdrant/bm25',\n",
       "  'description': 'BM25 as sparse embeddings meant to be used with Qdrant',\n",
       "  'license': 'apache-2.0',\n",
       "  'size_in_GB': 0.01,\n",
       "  'sources': {'hf': 'Qdrant/bm25'},\n",
       "  'model_file': 'mock.file',\n",
       "  'additional_files': ['arabic.txt',\n",
       "   'azerbaijani.txt',\n",
       "   'basque.txt',\n",
       "   'bengali.txt',\n",
       "   'catalan.txt',\n",
       "   'chinese.txt',\n",
       "   'danish.txt',\n",
       "   'dutch.txt',\n",
       "   'english.txt',\n",
       "   'finnish.txt',\n",
       "   'french.txt',\n",
       "   'german.txt',\n",
       "   'greek.txt',\n",
       "   'hebrew.txt',\n",
       "   'hinglish.txt',\n",
       "   'hungarian.txt',\n",
       "   'indonesian.txt',\n",
       "   'italian.txt',\n",
       "   'kazakh.txt',\n",
       "   'nepali.txt',\n",
       "   'norwegian.txt',\n",
       "   'portuguese.txt',\n",
       "   'romanian.txt',\n",
       "   'russian.txt',\n",
       "   'slovene.txt',\n",
       "   'spanish.txt',\n",
       "   'swedish.txt',\n",
       "   'tajik.txt',\n",
       "   'turkish.txt'],\n",
       "  'requires_idf': True}]"
      ]
     },
     "execution_count": 4,
     "metadata": {},
     "output_type": "execute_result"
    }
   ],
   "source": [
    "SparseTextEmbedding.list_supported_models()"
   ]
  },
  {
   "cell_type": "code",
   "execution_count": 5,
   "metadata": {},
   "outputs": [
    {
     "name": "stderr",
     "output_type": "stream",
     "text": [
      "/var/folders/rn/1hz8z9rx1dl7flt6dqxn3yx80000gn/T/ipykernel_94180/2946367021.py:3: DeprecationWarning: The right spelling is prithivida/Splade_PP_en_v1. Support of this name will be removed soon, please fix the model_name\n",
      "  model = SparseTextEmbedding(model_name=model_name)\n",
      "Fetching 5 files: 100%|██████████| 5/5 [00:33<00:00,  6.77s/it]\n"
     ]
    }
   ],
   "source": [
    "model_name = \"prithvida/Splade_PP_en_v1\"\n",
    "# This triggers the model download\n",
    "model = SparseTextEmbedding(model_name=model_name)"
   ]
  },
  {
   "cell_type": "code",
   "execution_count": 6,
   "metadata": {},
   "outputs": [],
   "source": [
    "documents: List[str] = [\n",
    "    \"Chandrayaan-3 is India's third lunar mission\",\n",
    "    \"It aimed to land a rover on the Moon's surface - joining the US, China and Russia\",\n",
    "    \"The mission is a follow-up to Chandrayaan-2, which had partial success\",\n",
    "    \"Chandrayaan-3 will be launched by the Indian Space Research Organisation (ISRO)\",\n",
    "    \"The estimated cost of the mission is around $35 million\",\n",
    "    \"It will carry instruments to study the lunar surface and atmosphere\",\n",
    "    \"Chandrayaan-3 landed on the Moon's surface on 23rd August 2023\",\n",
    "    \"It consists of a lander named Vikram and a rover named Pragyan similar to Chandrayaan-2. Its propulsion module would act like an orbiter.\",\n",
    "    \"The propulsion module carries the lander and rover configuration until the spacecraft is in a 100-kilometre (62 mi) lunar orbit\",\n",
    "    \"The mission used GSLV Mk III rocket for its launch\",\n",
    "    \"Chandrayaan-3 was launched from the Satish Dhawan Space Centre in Sriharikota\",\n",
    "    \"Chandrayaan-3 was launched earlier in the year 2023\",\n",
    "]"
   ]
  },
  {
   "cell_type": "code",
   "execution_count": 7,
   "metadata": {},
   "outputs": [],
   "source": [
    "sparse_embeddings_list: List[SparseEmbedding] = list(\n",
    "    model.embed(documents, batch_size=6)\n",
    ") "
   ]
  },
  {
   "cell_type": "code",
   "execution_count": 8,
   "metadata": {},
   "outputs": [
    {
     "data": {
      "text/plain": [
       "SparseEmbedding(values=array([0.05297276, 0.01963477, 0.3645905 , 1.38508415, 0.7177667 ,\n",
       "       0.12668137, 0.46230468, 0.44676718, 0.26896986, 1.01519763,\n",
       "       1.56553161, 0.29411644, 1.53102267, 0.59785521, 1.10018086,\n",
       "       0.02078829, 0.09955899, 0.44248503, 0.09748027, 1.53519893,\n",
       "       1.36765647, 0.15741006, 0.49882478, 0.38628468, 0.76612252,\n",
       "       1.2580502 , 0.39058524, 0.27236614, 0.45152271, 0.48261923,\n",
       "       0.26085106, 1.35912812, 0.70710599, 1.71639597]), indices=array([ 1010,  1011,  1016,  1017,  2001,  2018,  2034,  2093,  2117,\n",
       "        2319,  2353,  2509,  2634,  2686,  2796,  2817,  2922,  2959,\n",
       "        3003,  3148,  3260,  3390,  3462,  3523,  3822,  4231,  4316,\n",
       "        4774,  5590,  5871,  6416, 11926, 12076, 16469]))"
      ]
     },
     "execution_count": 8,
     "metadata": {},
     "output_type": "execute_result"
    }
   ],
   "source": [
    "index = 0\n",
    "sparse_embeddings_list[index]"
   ]
  },
  {
   "cell_type": "code",
   "execution_count": 9,
   "metadata": {},
   "outputs": [
    {
     "name": "stdout",
     "output_type": "stream",
     "text": [
      "Token at index 1010 has weight 0.05297275632619858\n",
      "Token at index 1011 has weight 0.01963476650416851\n",
      "Token at index 1016 has weight 0.36459049582481384\n",
      "Token at index 1017 has weight 1.3850841522216797\n",
      "Token at index 2001 has weight 0.7177667021751404\n"
     ]
    }
   ],
   "source": [
    "for i in range(5):\n",
    "    print(f\"Token at index {sparse_embeddings_list[0].indices[i]} has weight {sparse_embeddings_list[0].values[i]}\")"
   ]
  },
  {
   "cell_type": "code",
   "execution_count": 10,
   "metadata": {},
   "outputs": [],
   "source": [
    "import json\n",
    "from tokenizers import Tokenizer\n",
    "\n",
    "tokenizer = Tokenizer.from_pretrained(SparseTextEmbedding.list_supported_models()[0][\"sources\"][\"hf\"])"
   ]
  },
  {
   "cell_type": "code",
   "execution_count": 11,
   "metadata": {},
   "outputs": [
    {
     "name": "stdout",
     "output_type": "stream",
     "text": [
      "{\n",
      "    \"chandra\": 1.7163959741592407,\n",
      "    \"third\": 1.565531611442566,\n",
      "    \"##ya\": 1.5351989269256592,\n",
      "    \"india\": 1.5310226678848267,\n",
      "    \"3\": 1.3850841522216797,\n",
      "    \"mission\": 1.3676564693450928,\n",
      "    \"lunar\": 1.3591281175613403,\n",
      "    \"moon\": 1.2580502033233643,\n",
      "    \"indian\": 1.1001808643341064,\n",
      "    \"##an\": 1.0151976346969604,\n",
      "    \"3rd\": 0.7661225199699402,\n",
      "    \"was\": 0.7177667021751404,\n",
      "    \"spacecraft\": 0.7071059942245483,\n",
      "    \"space\": 0.5978552103042603,\n",
      "    \"flight\": 0.4988247752189636,\n",
      "    \"satellite\": 0.4826192259788513,\n",
      "    \"first\": 0.4623046815395355,\n",
      "    \"expedition\": 0.45152270793914795,\n",
      "    \"three\": 0.4467671811580658,\n",
      "    \"fourth\": 0.4424850344657898,\n",
      "    \"vehicle\": 0.3905852437019348,\n",
      "    \"iii\": 0.3862846791744232,\n",
      "    \"2\": 0.36459049582481384,\n",
      "    \"##3\": 0.29411643743515015,\n",
      "    \"planet\": 0.27236613631248474,\n",
      "    \"second\": 0.268969863653183,\n",
      "    \"missions\": 0.26085105538368225,\n",
      "    \"launched\": 0.15741005539894104,\n",
      "    \"had\": 0.1266813725233078,\n",
      "    \"largest\": 0.0995589941740036,\n",
      "    \"leader\": 0.09748027473688126,\n",
      "    \",\": 0.05297275632619858,\n",
      "    \"study\": 0.02078828774392605,\n",
      "    \"-\": 0.01963476650416851\n",
      "}\n"
     ]
    }
   ],
   "source": [
    "def get_tokens_and_weights(sparse_embedding, tokenizer):\n",
    "    token_weight_dict = {}\n",
    "    for i in range(len(sparse_embedding.indices)):\n",
    "        token = tokenizer.decode([sparse_embedding.indices[i]])\n",
    "        weight = sparse_embedding.values[i]\n",
    "        token_weight_dict[token] = weight\n",
    "\n",
    "    # Sort the dictionary by weights\n",
    "    token_weight_dict = dict(sorted(token_weight_dict.items(), key=lambda item: item[1], reverse=True))\n",
    "    return token_weight_dict\n",
    "\n",
    "# Test the function with the first SparseEmbedding\n",
    "print(json.dumps(get_tokens_and_weights(sparse_embeddings_list[index], tokenizer), indent=4))"
   ]
  },
  {
   "cell_type": "code",
   "execution_count": null,
   "metadata": {},
   "outputs": [],
   "source": []
  },
  {
   "cell_type": "code",
   "execution_count": null,
   "metadata": {},
   "outputs": [],
   "source": []
  },
  {
   "cell_type": "code",
   "execution_count": null,
   "metadata": {},
   "outputs": [],
   "source": []
  },
  {
   "cell_type": "code",
   "execution_count": null,
   "metadata": {},
   "outputs": [],
   "source": []
  },
  {
   "cell_type": "code",
   "execution_count": null,
   "metadata": {},
   "outputs": [],
   "source": []
  },
  {
   "cell_type": "code",
   "execution_count": null,
   "metadata": {},
   "outputs": [],
   "source": []
  },
  {
   "cell_type": "code",
   "execution_count": null,
   "metadata": {},
   "outputs": [],
   "source": []
  },
  {
   "cell_type": "code",
   "execution_count": null,
   "metadata": {},
   "outputs": [],
   "source": []
  },
  {
   "cell_type": "code",
   "execution_count": null,
   "metadata": {},
   "outputs": [],
   "source": []
  },
  {
   "cell_type": "code",
   "execution_count": null,
   "metadata": {},
   "outputs": [],
   "source": []
  },
  {
   "cell_type": "code",
   "execution_count": null,
   "metadata": {},
   "outputs": [],
   "source": []
  },
  {
   "cell_type": "code",
   "execution_count": null,
   "metadata": {},
   "outputs": [],
   "source": []
  },
  {
   "cell_type": "code",
   "execution_count": null,
   "metadata": {},
   "outputs": [],
   "source": []
  }
 ],
 "metadata": {
  "kernelspec": {
   "display_name": "Python 3",
   "language": "python",
   "name": "python3"
  },
  "language_info": {
   "codemirror_mode": {
    "name": "ipython",
    "version": 3
   },
   "file_extension": ".py",
   "mimetype": "text/x-python",
   "name": "python",
   "nbconvert_exporter": "python",
   "pygments_lexer": "ipython3",
   "version": "3.12.2"
  }
 },
 "nbformat": 4,
 "nbformat_minor": 2
}
